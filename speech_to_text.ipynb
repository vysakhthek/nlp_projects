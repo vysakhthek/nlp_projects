{
 "cells": [
  {
   "cell_type": "code",
   "execution_count": null,
   "id": "532c21c6",
   "metadata": {},
   "outputs": [],
   "source": [
    "pip install speechrecognition"
   ]
  },
  {
   "cell_type": "code",
   "execution_count": null,
   "id": "faea5439",
   "metadata": {},
   "outputs": [],
   "source": [
    "pip install PyAudio"
   ]
  },
  {
   "cell_type": "code",
   "execution_count": null,
   "id": "deff7666",
   "metadata": {},
   "outputs": [],
   "source": [
    "pip install pyttsx3"
   ]
  },
  {
   "cell_type": "code",
   "execution_count": null,
   "id": "4572d2c9",
   "metadata": {},
   "outputs": [],
   "source": [
    "import time\n",
    "import speech_recognition\n",
    "from tqdm import tqdm\n",
    "\n",
    "def record_voice():\n",
    "    microphone = speech_recognition.Recognizer()\n",
    "    with speech_recognition.Microphone() as live_phone:\n",
    "        microphone.adjust_for_ambient_noise(live_phone)\n",
    "        print(\"I'm listening. Speak now!\")\n",
    "        time_start = time.time()\n",
    "        progress_bar = tqdm(range(10), desc=\"Recording\", unit=\"s\")\n",
    "        for i in progress_bar:\n",
    "            time.sleep(1)\n",
    "        progress_bar.close()\n",
    "        audio = microphone.listen(live_phone, phrase_time_limit=10)\n",
    "        time_end = time.time()\n",
    "        time_elapsed = time_end - time_start\n",
    "        print(\"Recording stopped after {:.2f} seconds\".format(time_elapsed))\n",
    "    try:\n",
    "        answer = input(\"Would you like to record again? (y/n)\")\n",
    "        if answer == \"y\":\n",
    "            return record_voice()\n",
    "        else:\n",
    "            phrase = microphone.recognize_google(audio, language='en')\n",
    "            return phrase\n",
    "    except speech_recognition.UnkownValueError:\n",
    "        print(\"Sorry, I could not understand your speech.\")\n",
    "        answer = input(\"Would you like to record again? (y/n)\")\n",
    "        if answer == \"y\":\n",
    "            return record_voice()\n",
    "        else:\n",
    "            return None"
   ]
  },
  {
   "cell_type": "code",
   "execution_count": null,
   "id": "58efa0d6",
   "metadata": {},
   "outputs": [],
   "source": [
    "if __name__ == '__main__':\n",
    "    phrase = record_voice()\n",
    "    with open('recorded_text.txt','w') as file:\n",
    "        file.write(phrase)\n",
    "        print('the last sentence you spoke was saved in the file recorded_text.txt')"
   ]
  }
 ],
 "metadata": {
  "kernelspec": {
   "display_name": "Python 3 (ipykernel)",
   "language": "python",
   "name": "python3"
  },
  "language_info": {
   "codemirror_mode": {
    "name": "ipython",
    "version": 3
   },
   "file_extension": ".py",
   "mimetype": "text/x-python",
   "name": "python",
   "nbconvert_exporter": "python",
   "pygments_lexer": "ipython3",
   "version": "3.9.13"
  }
 },
 "nbformat": 4,
 "nbformat_minor": 5
}
